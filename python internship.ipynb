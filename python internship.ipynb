{
 "cells": [
  {
   "cell_type": "code",
   "execution_count": 3,
   "id": "9c9a8edc-850f-46d5-88d7-890af31583b6",
   "metadata": {},
   "outputs": [
    {
     "name": "stdin",
     "output_type": "stream",
     "text": [
      "enter any number: 5\n",
      "enter any number: 10\n"
     ]
    },
    {
     "name": "stdout",
     "output_type": "stream",
     "text": [
      "15\n"
     ]
    }
   ],
   "source": [
    "#sum of two numbers#\n",
    "a=int(input(\"enter any number:\"))\n",
    "b=int(input(\"enter any number:\"))\n",
    "c=a+b\n",
    "print(c)"
   ]
  },
  {
   "cell_type": "code",
   "execution_count": 7,
   "id": "a6b1fec7-6d0c-4068-8d67-f28272fc0648",
   "metadata": {},
   "outputs": [
    {
     "name": "stdin",
     "output_type": "stream",
     "text": [
      "enter any number: 5\n"
     ]
    },
    {
     "name": "stdout",
     "output_type": "stream",
     "text": [
      "Odd Number\n"
     ]
    }
   ],
   "source": [
    "#sum is even or odd#\n",
    "\n",
    "a=int(input(\"enter any number:\"))\n",
    "if a%2==0:\n",
    "    print(\"Even Number\")\n",
    "else:\n",
    "    print(\"Odd Number\")\n",
    "\n"
   ]
  },
  {
   "cell_type": "code",
   "execution_count": 15,
   "id": "6366c199-55cd-4ee6-acd8-105d414db770",
   "metadata": {},
   "outputs": [
    {
     "name": "stdin",
     "output_type": "stream",
     "text": [
      "enter any number 6\n"
     ]
    },
    {
     "name": "stdout",
     "output_type": "stream",
     "text": [
      "Factorial of  6 is 720\n"
     ]
    }
   ],
   "source": [
    "\n",
    "#Factorial of a given number#\n",
    "n=int(input(\"enter any number\"))\n",
    "fact=1\n",
    "for i in range(1,n+1):\n",
    "    fact=fact*i\n",
    "print(\"Factorial of \",n,\"is\" ,fact)   "
   ]
  },
  {
   "cell_type": "code",
   "execution_count": 19,
   "id": "753bb610-ae34-4b6a-b4b1-2beab66c9bfe",
   "metadata": {},
   "outputs": [
    {
     "name": "stdin",
     "output_type": "stream",
     "text": [
      "enter n for how many times 5\n"
     ]
    },
    {
     "name": "stdout",
     "output_type": "stream",
     "text": [
      "0   1      1    2    3    5    8 "
     ]
    }
   ],
   "source": [
    "\n",
    "#Fibonacci series#\n",
    "a=0\n",
    "b=1\n",
    "n=int(input(\"enter n for how many times\"))\n",
    "print(a,\" \",b,\" \",end=\" \")\n",
    "for i in range(n):\n",
    "    c=a+b\n",
    "    a=b\n",
    "    b=c\n",
    "    print(\"  \",c,end=\" \")"
   ]
  },
  {
   "cell_type": "code",
   "execution_count": 23,
   "id": "45da0b87-f2bc-4e27-8b9d-9e8b65b061df",
   "metadata": {},
   "outputs": [
    {
     "name": "stdout",
     "output_type": "stream",
     "text": [
      "EMOCLEW\n"
     ]
    }
   ],
   "source": [
    "#Reversed String #\n",
    "string=\"WELCOME\"\n",
    "reversed_string=string[::-1]\n",
    "print(reversed_string)"
   ]
  },
  {
   "cell_type": "code",
   "execution_count": 29,
   "id": "9f5549d2-6a17-4851-8601-0e21a543127f",
   "metadata": {},
   "outputs": [
    {
     "name": "stdin",
     "output_type": "stream",
     "text": [
      "Enter any number: 343\n"
     ]
    },
    {
     "name": "stdout",
     "output_type": "stream",
     "text": [
      "Palindrome number\n"
     ]
    }
   ],
   "source": [
    "\n",
    "# PALINDROME #\n",
    "n=int(input(\"Enter any number:\"))\n",
    "temp=n\n",
    "rev=0\n",
    "while(n>0):\n",
    "    d=n%10\n",
    "    rev=rev*10+d\n",
    "    n=n//10\n",
    "if(temp==rev):\n",
    "    print(\"Palindrome number\")\n",
    "else:\n",
    "    print(\"Not a palindrome number\")\n"
   ]
  },
  {
   "cell_type": "code",
   "execution_count": 35,
   "id": "548fa210-5241-42f9-a556-c0ff0ac905f3",
   "metadata": {},
   "outputs": [
    {
     "name": "stdin",
     "output_type": "stream",
     "text": [
      "Enter any number: 2004\n"
     ]
    },
    {
     "name": "stdout",
     "output_type": "stream",
     "text": [
      "Not a leap year\n"
     ]
    }
   ],
   "source": [
    "\n",
    "#LEAP YEAR#\n",
    "year=int(input(\"Enter any number:\"))\n",
    "if(year%4==0 and year%100==0 or year%400==0):\n",
    "    print(\"Leap Year\")\n",
    "else:\n",
    "    print(\"Not a leap year\")\n",
    "\n",
    "    \n",
    "    "
   ]
  },
  {
   "cell_type": "code",
   "execution_count": 39,
   "id": "de2caf25-5c7f-44c8-bf69-d9732cf5d71e",
   "metadata": {},
   "outputs": [
    {
     "name": "stdin",
     "output_type": "stream",
     "text": [
      "Enter any number 342\n"
     ]
    },
    {
     "name": "stdout",
     "output_type": "stream",
     "text": [
      "Not an Armstrong Number\n"
     ]
    }
   ],
   "source": [
    "#Armstrong Number#\n",
    "n=int(input(\"Enter any number\"))\n",
    "t=n\n",
    "r=0\n",
    "while(n>0):\n",
    "    a=n%10\n",
    "    r=r+a*a*a\n",
    "    n=n//10\n",
    "if(r==t):\n",
    "    print(\"Armstrong Number\")\n",
    "else:\n",
    "    print(\"Not an Armstrong Number\")\n",
    "    "
   ]
  },
  {
   "cell_type": "code",
   "execution_count": 11,
   "id": "274a1820-ccf8-4b67-891d-a97fb5f43c0e",
   "metadata": {},
   "outputs": [
    {
     "name": "stdin",
     "output_type": "stream",
     "text": [
      "Enter a message to encrypt:  saidurga\n"
     ]
    },
    {
     "name": "stdout",
     "output_type": "stream",
     "text": [
      "Encrypted Message: zakvisya\n",
      "Decrypted Message: saidurga\n"
     ]
    }
   ],
   "source": [
    "# ENCRYPTION DECRYPTION #\n",
    "import string\n",
    "def generate_key():\n",
    "    alphabet = string.ascii_lowercase\n",
    "    shuffled = list(alphabet)\n",
    "    import random\n",
    "    random.shuffle(shuffled)\n",
    "    return dict(zip(alphabet, shuffled)), dict(zip(shuffled, alphabet))\n",
    "    \n",
    "def encrypt(message, key):\n",
    "    message = message.lower()  \n",
    "    encrypted_message = \"\"\n",
    "    \n",
    "    for char in message:\n",
    "        if char in key:\n",
    "            encrypted_message += key[char]\n",
    "        else:\n",
    "            encrypted_message += char\n",
    "    \n",
    "    return encrypted_message\n",
    "def decrypt(encrypted_message, reverse_key):\n",
    "    decrypted_message = \"\"\n",
    "    \n",
    "    for char in encrypted_message:\n",
    "        if char in reverse_key:\n",
    "            decrypted_message += reverse_key[char]\n",
    "        else:\n",
    "            decrypted_message += char  \n",
    "    \n",
    "    return decrypted_message\n",
    "\n",
    "\n",
    "def main():\n",
    "    \n",
    "    encryption_key, decryption_key = generate_key()\n",
    "    message = input(\"Enter a message to encrypt: \")\n",
    "    \n",
    "    \n",
    "    encrypted_message = encrypt(message, encryption_key)\n",
    "    print(\"Encrypted Message:\", encrypted_message)\n",
    "    decrypted_message = decrypt(encrypted_message, decryption_key)\n",
    "    print(\"Decrypted Message:\", decrypted_message)\n",
    "\n",
    "if __name__ == \"__main__\":\n",
    "    main()"
   ]
  },
  {
   "cell_type": "code",
   "execution_count": null,
   "id": "e0e5fd87-085d-41bf-9563-dbc36c371583",
   "metadata": {},
   "outputs": [],
   "source": []
  }
 ],
 "metadata": {
  "kernelspec": {
   "display_name": "Python 3 (ipykernel)",
   "language": "python",
   "name": "python3"
  },
  "language_info": {
   "codemirror_mode": {
    "name": "ipython",
    "version": 3
   },
   "file_extension": ".py",
   "mimetype": "text/x-python",
   "name": "python",
   "nbconvert_exporter": "python",
   "pygments_lexer": "ipython3",
   "version": "3.12.4"
  }
 },
 "nbformat": 4,
 "nbformat_minor": 5
}
